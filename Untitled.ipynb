{
 "cells": [
  {
   "cell_type": "code",
   "execution_count": 1,
   "id": "interested-volume",
   "metadata": {},
   "outputs": [],
   "source": [
    "import opentrons"
   ]
  },
  {
   "cell_type": "code",
   "execution_count": 25,
   "id": "generous-confidence",
   "metadata": {},
   "outputs": [
    {
     "name": "stderr",
     "output_type": "stream",
     "text": [
      "C:\\Users\\lajamu\\.opentrons\\deck_calibration.json not found. Loading defaults\n",
      "C:\\Users\\lajamu\\.opentrons\\robot_settings.json not found. Loading defaults\n",
      "Traceback (most recent call last):\n",
      "  File \"c:\\users\\lajamu\\appdata\\local\\continuum\\anaconda3\\lib\\site-packages\\opentrons\\protocols\\execution\\execute_python.py\", line 61, in run_python\n",
      "    exec('run(__context)', new_globs)\n",
      "  File \"<string>\", line 1, in <module>\n",
      "  File \"Make_OE_PCR.py\", line 159, in run\n",
      "    dilute_and_transfer_b2(i)\n",
      "  File \"Make_OE_PCR.py\", line 149, in dilute_and_transfer_b2\n",
      "    p20Single.transfer(1, dil_plate.wells()[pos], [OEpcr_rack.wells()[dests[1:len(dests)]]], mix_after=(2, 20))\n",
      "TypeError: list indices must be integers or slices, not list\n",
      "\n",
      "During handling of the above exception, another exception occurred:\n",
      "\n",
      "Traceback (most recent call last):\n",
      "  File \"c:\\users\\lajamu\\appdata\\local\\continuum\\anaconda3\\lib\\runpy.py\", line 193, in _run_module_as_main\n",
      "    \"__main__\", mod_spec)\n",
      "  File \"c:\\users\\lajamu\\appdata\\local\\continuum\\anaconda3\\lib\\runpy.py\", line 85, in _run_code\n",
      "    exec(code, run_globals)\n",
      "  File \"C:\\Users\\lajamu\\AppData\\Local\\Continuum\\anaconda3\\Scripts\\opentrons_simulate.exe\\__main__.py\", line 7, in <module>\n",
      "  File \"c:\\users\\lajamu\\appdata\\local\\continuum\\anaconda3\\lib\\site-packages\\opentrons\\simulate.py\", line 529, in main\n",
      "    log_level=args.log_level)\n",
      "  File \"c:\\users\\lajamu\\appdata\\local\\continuum\\anaconda3\\lib\\site-packages\\opentrons\\simulate.py\", line 346, in simulate\n",
      "    execute.run_protocol(protocol, context)\n",
      "  File \"c:\\users\\lajamu\\appdata\\local\\continuum\\anaconda3\\lib\\site-packages\\opentrons\\protocols\\execution\\execute.py\", line 25, in run_protocol\n",
      "    run_python(protocol, context)\n",
      "  File \"c:\\users\\lajamu\\appdata\\local\\continuum\\anaconda3\\lib\\site-packages\\opentrons\\protocols\\execution\\execute_python.py\", line 72, in run_python\n",
      "    raise ExceptionInProtocolError(e, tb, str(e), frame.lineno)\n",
      "opentrons.protocols.execution.errors.ExceptionInProtocolError: TypeError [line 149]: list indices must be integers or slices, not list\n"
     ]
    }
   ],
   "source": [
    "!opentrons_simulate Make_OE_PCR.py"
   ]
  }
 ],
 "metadata": {
  "kernelspec": {
   "display_name": "Python 3",
   "language": "python",
   "name": "python3"
  },
  "language_info": {
   "codemirror_mode": {
    "name": "ipython",
    "version": 3
   },
   "file_extension": ".py",
   "mimetype": "text/x-python",
   "name": "python",
   "nbconvert_exporter": "python",
   "pygments_lexer": "ipython3",
   "version": "3.7.1"
  }
 },
 "nbformat": 4,
 "nbformat_minor": 5
}
