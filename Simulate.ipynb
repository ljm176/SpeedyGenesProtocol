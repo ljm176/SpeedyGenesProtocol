{
 "cells": [
  {
   "cell_type": "code",
   "execution_count": 1,
   "id": "intimate-solomon",
   "metadata": {},
   "outputs": [],
   "source": [
    "import opentrons"
   ]
  },
  {
   "cell_type": "code",
   "execution_count": 2,
   "id": "collected-active",
   "metadata": {},
   "outputs": [
    {
     "data": {
      "text/plain": [
       "[[0, 1], [2, 3, 4, 5, 6, 7, 8, 9, 10, 11, 12, 13, 14, 15, 16, 17]]"
      ]
     },
     "execution_count": 2,
     "metadata": {},
     "output_type": "execute_result"
    }
   ],
   "source": [
    "l = [[0, 1], [2, 3, 4, 5, 6, 7, 8, 9, 10, 11, 12, 13, 14, 15, 16, 17]]\n",
    "l"
   ]
  },
  {
   "cell_type": "code",
   "execution_count": 16,
   "id": "strategic-magic",
   "metadata": {},
   "outputs": [
    {
     "data": {
      "text/plain": [
       "[[0, 2],\n",
       " [0, 3],\n",
       " [0, 4],\n",
       " [0, 5],\n",
       " [0, 6],\n",
       " [0, 7],\n",
       " [0, 8],\n",
       " [0, 9],\n",
       " [0, 10],\n",
       " [0, 11],\n",
       " [0, 12],\n",
       " [0, 13],\n",
       " [0, 14],\n",
       " [0, 15],\n",
       " [0, 16],\n",
       " [0, 17],\n",
       " [1, 2],\n",
       " [1, 3],\n",
       " [1, 4],\n",
       " [1, 5],\n",
       " [1, 6],\n",
       " [1, 7],\n",
       " [1, 8],\n",
       " [1, 9],\n",
       " [1, 10],\n",
       " [1, 11],\n",
       " [1, 12],\n",
       " [1, 13],\n",
       " [1, 14],\n",
       " [1, 15],\n",
       " [1, 16],\n",
       " [1, 17]]"
      ]
     },
     "execution_count": 16,
     "metadata": {},
     "output_type": "execute_result"
    }
   ],
   "source": [
    "import itertools\n",
    "z = []\n",
    "for i in itertools.product(*l):\n",
    "    z.append(list(i))\n",
    "        \n",
    "z"
   ]
  },
  {
   "cell_type": "code",
   "execution_count": 4,
   "id": "emerging-greece",
   "metadata": {
    "scrolled": true
   },
   "outputs": [
    {
     "name": "stdout",
     "output_type": "stream",
     "text": [
      "Setting Temperature Module temperature to 4.0 °C (rounded off to nearest integer)\n",
      "Opening Thermocycler lid\n",
      "Distributing 12.5 from A1 of Reagents on Temperature Module GEN1 on 1 to A1 of Thermocylcer on Thermocycler Module on 7\n",
      "\tTransferring 12.5 from A1 of Reagents on Temperature Module GEN1 on 1 to A1 of Thermocylcer on Thermocycler Module on 7\n",
      "\t\tPicking up tip from A1 of Opentrons 96 Tip Rack 300 µL on 3\n",
      "\t\tAspirating 55.0 uL from A1 of Reagents on Temperature Module GEN1 on 1 at 150.0 uL/sec\n",
      "\t\tTouching tip\n",
      "\t\tDispensing 12.5 uL into A1 of Thermocylcer on Thermocycler Module on 7 at 300.0 uL/sec\n",
      "\t\tTouching tip\n",
      "\t\tDispensing 12.5 uL into B1 of Thermocylcer on Thermocycler Module on 7 at 300.0 uL/sec\n",
      "\t\tTouching tip\n",
      "\t\tBlowing out at A1 of Opentrons Fixed Trash on 12\n",
      "\t\tDropping tip into A1 of Opentrons Fixed Trash on 12\n",
      "Distributing 4.0 from A2 of Reagents on Temperature Module GEN1 on 1 to A1 of Thermocylcer on Thermocycler Module on 7\n",
      "\tTransferring 4.0 from A2 of Reagents on Temperature Module GEN1 on 1 to A1 of Thermocylcer on Thermocycler Module on 7\n",
      "\t\tPicking up tip from A1 of Opentrons 96 Tip Rack 20 µL on 6\n",
      "\t\tAspirating 9.0 uL from A2 of Reagents on Temperature Module GEN1 on 1 at 7.56 uL/sec\n",
      "\t\tTouching tip\n",
      "\t\tDispensing 4.0 uL into A1 of Thermocylcer on Thermocycler Module on 7 at 7.56 uL/sec\n",
      "\t\tTouching tip\n",
      "\t\tDispensing 4.0 uL into B1 of Thermocylcer on Thermocycler Module on 7 at 7.56 uL/sec\n",
      "\t\tTouching tip\n",
      "\t\tBlowing out at A1 of Opentrons Fixed Trash on 12\n",
      "\t\tDropping tip into A1 of Opentrons Fixed Trash on 12\n",
      "Picking up tip from B1 of Opentrons 96 Tip Rack 20 µL on 6\n",
      "Distributing 4.0 from A1 of Dilution Plate on 5 to A1 of Thermocylcer on Thermocycler Module on 7\n",
      "\tTransferring 4.0 from A1 of Dilution Plate on 5 to A1 of Thermocylcer on Thermocycler Module on 7\n",
      "\t\tAspirating 5.0 uL from A1 of Dilution Plate on 5 at 7.56 uL/sec\n",
      "\t\tDispensing 4.0 uL into A1 of Thermocylcer on Thermocycler Module on 7 at 7.56 uL/sec\n",
      "\t\tBlowing out at A1 of Opentrons Fixed Trash on 12\n",
      "Dropping tip into A1 of Opentrons Fixed Trash on 12\n",
      "Picking up tip from C1 of Opentrons 96 Tip Rack 20 µL on 6\n",
      "Distributing 4.0 from C1 of Dilution Plate on 5 to B1 of Thermocylcer on Thermocycler Module on 7\n",
      "\tTransferring 4.0 from C1 of Dilution Plate on 5 to B1 of Thermocylcer on Thermocycler Module on 7\n",
      "\t\tAspirating 5.0 uL from C1 of Dilution Plate on 5 at 7.56 uL/sec\n",
      "\t\tDispensing 4.0 uL into B1 of Thermocylcer on Thermocycler Module on 7 at 7.56 uL/sec\n",
      "\t\tBlowing out at A1 of Opentrons Fixed Trash on 12\n",
      "Dropping tip into A1 of Opentrons Fixed Trash on 12\n",
      "Transferring 4.0 from B1 of Dilution Plate on 5 to A1 of Thermocylcer on Thermocycler Module on 7\n",
      "\tPicking up tip from D1 of Opentrons 96 Tip Rack 20 µL on 6\n",
      "\tAspirating 4.0 uL from B1 of Dilution Plate on 5 at 7.56 uL/sec\n",
      "\tDispensing 4.0 uL into A1 of Thermocylcer on Thermocycler Module on 7 at 7.56 uL/sec\n",
      "\tMixing 2 times with a volume of 20.0 ul\n",
      "\t\tAspirating 20.0 uL from A1 of Thermocylcer on Thermocycler Module on 7 at 7.56 uL/sec\n",
      "\t\tDispensing 20.0 uL into A1 of Thermocylcer on Thermocycler Module on 7 at 7.56 uL/sec\n",
      "\t\tAspirating 20.0 uL from A1 of Thermocylcer on Thermocycler Module on 7 at 7.56 uL/sec\n",
      "\t\tDispensing 20.0 uL into A1 of Thermocylcer on Thermocycler Module on 7 at 7.56 uL/sec\n",
      "\tDropping tip into A1 of Opentrons Fixed Trash on 12\n",
      "Transferring 4.0 from D1 of Dilution Plate on 5 to B1 of Thermocylcer on Thermocycler Module on 7\n",
      "\tPicking up tip from E1 of Opentrons 96 Tip Rack 20 µL on 6\n",
      "\tAspirating 4.0 uL from D1 of Dilution Plate on 5 at 7.56 uL/sec\n",
      "\tDispensing 4.0 uL into B1 of Thermocylcer on Thermocycler Module on 7 at 7.56 uL/sec\n",
      "\tMixing 2 times with a volume of 20.0 ul\n",
      "\t\tAspirating 20.0 uL from B1 of Thermocylcer on Thermocycler Module on 7 at 7.56 uL/sec\n",
      "\t\tDispensing 20.0 uL into B1 of Thermocylcer on Thermocycler Module on 7 at 7.56 uL/sec\n",
      "\t\tAspirating 20.0 uL from B1 of Thermocylcer on Thermocycler Module on 7 at 7.56 uL/sec\n",
      "\t\tDispensing 20.0 uL into B1 of Thermocylcer on Thermocycler Module on 7 at 7.56 uL/sec\n",
      "\tDropping tip into A1 of Opentrons Fixed Trash on 12\n",
      "Pausing robot operation: Add PCR seal\n",
      "Closing Thermocycler lid\n",
      "Setting Thermocycler lid temperature to 110.0 °C\n",
      "Setting Thermocycler well block temperature to 98.0 °C with a hold time of 30 seconds\n",
      "Thermocycler starting 35 repetitions of cycle composed of the following steps: [{'temperature': 98, 'hold_time_seconds': 10}, {'temperature': 72, 'hold_time_seconds': 20}, {'temperature': 72, 'hold_time_seconds': 300}]\n",
      "Setting Thermocycler well block temperature to 72.0 °C with a hold time of 10.0 minutes and 0 seconds\n",
      "Setting Thermocycler well block temperature to 10.0 °C\n",
      "Opening Thermocycler lid\n",
      "Pausing robot operation: Load Deepwell and A. Baylyi\n",
      "Transforming\n",
      "Picking up tip from B1 of Opentrons 96 Tip Rack 300 µL on 3\n",
      "Transferring 500.0 from A1 of Baylyi Rack on 9 to A1 of DeepWell on 4\n",
      "\tAspirating 250.0 uL from A1 of Baylyi Rack on 9 at 150.0 uL/sec\n",
      "\tDispensing 250.0 uL into A1 of DeepWell on 4 at 300.0 uL/sec\n",
      "\tAspirating 250.0 uL from A1 of Baylyi Rack on 9 at 150.0 uL/sec\n",
      "\tDispensing 250.0 uL into A1 of DeepWell on 4 at 300.0 uL/sec\n",
      "Transferring 500.0 from A1 of Baylyi Rack on 9 to B1 of DeepWell on 4\n",
      "\tAspirating 250.0 uL from A1 of Baylyi Rack on 9 at 150.0 uL/sec\n",
      "\tDispensing 250.0 uL into B1 of DeepWell on 4 at 300.0 uL/sec\n",
      "\tAspirating 250.0 uL from A1 of Baylyi Rack on 9 at 150.0 uL/sec\n",
      "\tDispensing 250.0 uL into B1 of DeepWell on 4 at 300.0 uL/sec\n",
      "Dropping tip into A1 of Opentrons Fixed Trash on 12\n",
      "Transferring 5.0 from A1 of Thermocylcer on Thermocycler Module on 7 to A1 of DeepWell on 4\n",
      "\tPicking up tip from F1 of Opentrons 96 Tip Rack 20 µL on 6\n",
      "\tAspirating 5.0 uL from A1 of Thermocylcer on Thermocycler Module on 7 at 7.56 uL/sec\n",
      "\tDispensing 5.0 uL into A1 of DeepWell on 4 at 7.56 uL/sec\n",
      "\tDropping tip into A1 of Opentrons Fixed Trash on 12\n",
      "Transferring 5.0 from B1 of Thermocylcer on Thermocycler Module on 7 to B1 of DeepWell on 4\n",
      "\tPicking up tip from G1 of Opentrons 96 Tip Rack 20 µL on 6\n",
      "\tAspirating 5.0 uL from B1 of Thermocylcer on Thermocycler Module on 7 at 7.56 uL/sec\n",
      "\tDispensing 5.0 uL into B1 of DeepWell on 4 at 7.56 uL/sec\n",
      "\tDropping tip into A1 of Opentrons Fixed Trash on 12\n",
      "Congratulations! \n",
      "Run complete. Place deep well plate in 30 degree incubator\n"
     ]
    },
    {
     "name": "stderr",
     "output_type": "stream",
     "text": [
      "C:\\Users\\lajamu\\.opentrons\\deck_calibration.json not found. Loading defaults\n",
      "C:\\Users\\lajamu\\.opentrons\\robot_settings.json not found. Loading defaults\n"
     ]
    }
   ],
   "source": [
    "!opentrons_simulate 4_AUSFPTEST_OEPCR_OT.py"
   ]
  },
  {
   "cell_type": "code",
   "execution_count": 5,
   "id": "banned-notion",
   "metadata": {},
   "outputs": [],
   "source": [
    "#make list of wells in 96 well plate\n",
    "import string\n",
    "\n",
    "rows = list(string.ascii_uppercase)[0:8]\n",
    "cols = list(range(1, 13))\n",
    "wells96 = []\n",
    "for col in cols:\n",
    "    for letter in rows:\n",
    "        wells96.append(letter + str(col))\n",
    "        \n",
    "lowEvapWells= [x + i for x in range(18, 75, 8) for i in (range(4))]"
   ]
  },
  {
   "cell_type": "code",
   "execution_count": 9,
   "id": "legislative-average",
   "metadata": {},
   "outputs": [
    {
     "data": {
      "text/plain": [
       "['C3',\n",
       " 'D3',\n",
       " 'E3',\n",
       " 'F3',\n",
       " 'C4',\n",
       " 'D4',\n",
       " 'E4',\n",
       " 'F4',\n",
       " 'C5',\n",
       " 'D5',\n",
       " 'E5',\n",
       " 'F5',\n",
       " 'C6',\n",
       " 'D6',\n",
       " 'E6',\n",
       " 'F6',\n",
       " 'C7',\n",
       " 'D7',\n",
       " 'E7',\n",
       " 'F7',\n",
       " 'C8',\n",
       " 'D8',\n",
       " 'E8',\n",
       " 'F8',\n",
       " 'C9',\n",
       " 'D9',\n",
       " 'E9',\n",
       " 'F9',\n",
       " 'C10',\n",
       " 'D10',\n",
       " 'E10',\n",
       " 'F10']"
      ]
     },
     "execution_count": 9,
     "metadata": {},
     "output_type": "execute_result"
    }
   ],
   "source": [
    "lowEvap96 = [wells96[i] for i in lowEvapWells]\n",
    "lowEvap96"
   ]
  }
 ],
 "metadata": {
  "kernelspec": {
   "display_name": "Python 3",
   "language": "python",
   "name": "python3"
  },
  "language_info": {
   "codemirror_mode": {
    "name": "ipython",
    "version": 3
   },
   "file_extension": ".py",
   "mimetype": "text/x-python",
   "name": "python",
   "nbconvert_exporter": "python",
   "pygments_lexer": "ipython3",
   "version": "3.7.1"
  }
 },
 "nbformat": 4,
 "nbformat_minor": 5
}
