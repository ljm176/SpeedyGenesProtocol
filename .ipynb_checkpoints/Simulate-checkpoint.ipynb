{
 "cells": [
  {
   "cell_type": "code",
   "execution_count": 1,
   "id": "intimate-solomon",
   "metadata": {},
   "outputs": [],
   "source": [
    "import opentrons"
   ]
  },
  {
   "cell_type": "code",
   "execution_count": 2,
   "id": "collected-active",
   "metadata": {},
   "outputs": [
    {
     "data": {
      "text/plain": [
       "[[0, 1], [2, 3, 4, 5, 6, 7, 8, 9, 10, 11, 12, 13, 14, 15, 16, 17]]"
      ]
     },
     "execution_count": 2,
     "metadata": {},
     "output_type": "execute_result"
    }
   ],
   "source": [
    "l = [[0, 1], [2, 3, 4, 5, 6, 7, 8, 9, 10, 11, 12, 13, 14, 15, 16, 17]]\n",
    "l"
   ]
  },
  {
   "cell_type": "code",
   "execution_count": 16,
   "id": "strategic-magic",
   "metadata": {},
   "outputs": [
    {
     "data": {
      "text/plain": [
       "[[0, 2],\n",
       " [0, 3],\n",
       " [0, 4],\n",
       " [0, 5],\n",
       " [0, 6],\n",
       " [0, 7],\n",
       " [0, 8],\n",
       " [0, 9],\n",
       " [0, 10],\n",
       " [0, 11],\n",
       " [0, 12],\n",
       " [0, 13],\n",
       " [0, 14],\n",
       " [0, 15],\n",
       " [0, 16],\n",
       " [0, 17],\n",
       " [1, 2],\n",
       " [1, 3],\n",
       " [1, 4],\n",
       " [1, 5],\n",
       " [1, 6],\n",
       " [1, 7],\n",
       " [1, 8],\n",
       " [1, 9],\n",
       " [1, 10],\n",
       " [1, 11],\n",
       " [1, 12],\n",
       " [1, 13],\n",
       " [1, 14],\n",
       " [1, 15],\n",
       " [1, 16],\n",
       " [1, 17]]"
      ]
     },
     "execution_count": 16,
     "metadata": {},
     "output_type": "execute_result"
    }
   ],
   "source": [
    "import itertools\n",
    "z = []\n",
    "for i in itertools.product(*l):\n",
    "    z.append(list(i))\n",
    "    \n",
    "z"
   ]
  },
  {
   "cell_type": "code",
   "execution_count": 2,
   "id": "emerging-greece",
   "metadata": {
    "scrolled": true
   },
   "outputs": [
    {
     "name": "stdout",
     "output_type": "stream",
     "text": [
      "Opening Thermocycler lid\n",
      "Setting Thermocycler lid temperature to 110.0 °C\n",
      "Closing Thermocycler lid\n",
      "Setting Thermocycler well block temperature to 98.0 °C with a hold time of 1.0 minutes and 0 seconds\n",
      "Thermocycler starting 25 repetitions of cycle composed of the following steps: [{'temperature': 98, 'hold_time_seconds': 15}, {'temperature': 52, 'hold_time_seconds': 15}, {'temperature': 72, 'hold_time_seconds': 30}]\n",
      "Setting Thermocycler well block temperature to 72.0 °C with a hold time of 5.0 minutes and 0 seconds\n",
      "Setting Thermocycler well block temperature to 4.0 °C\n",
      "Opening Thermocycler lid\n",
      "Pausing robot operation: Remove Seal\n",
      "Transferring 50.0 from A1 of Opentrons 24 Tube Rack with Eppendorf 1.5 mL Safe-Lock Snapcap on 5 to A1 of NEST 96 Well Plate 100 µL PCR Full Skirt on Thermocycler Module on 7\n",
      "\tPicking up tip from A1 of Opentrons 96 Tip Rack 300 µL on 2\n",
      "\tAspirating 50.0 uL from A1 of Opentrons 24 Tube Rack with Eppendorf 1.5 mL Safe-Lock Snapcap on 5 at 150.0 uL/sec\n",
      "\tDispensing 50.0 uL into A1 of NEST 96 Well Plate 100 µL PCR Full Skirt on Thermocycler Module on 7 at 300.0 uL/sec\n",
      "\tDropping tip into A1 of Opentrons Fixed Trash on 12\n",
      "Transferring 50.0 from A1 of Opentrons 24 Tube Rack with Eppendorf 1.5 mL Safe-Lock Snapcap on 5 to B1 of NEST 96 Well Plate 100 µL PCR Full Skirt on Thermocycler Module on 7\n",
      "\tPicking up tip from B1 of Opentrons 96 Tip Rack 300 µL on 2\n",
      "\tAspirating 50.0 uL from A1 of Opentrons 24 Tube Rack with Eppendorf 1.5 mL Safe-Lock Snapcap on 5 at 150.0 uL/sec\n",
      "\tDispensing 50.0 uL into B1 of NEST 96 Well Plate 100 µL PCR Full Skirt on Thermocycler Module on 7 at 300.0 uL/sec\n",
      "\tDropping tip into A1 of Opentrons Fixed Trash on 12\n",
      "Transferring 50.0 from A1 of Opentrons 24 Tube Rack with Eppendorf 1.5 mL Safe-Lock Snapcap on 5 to C1 of NEST 96 Well Plate 100 µL PCR Full Skirt on Thermocycler Module on 7\n",
      "\tPicking up tip from C1 of Opentrons 96 Tip Rack 300 µL on 2\n",
      "\tAspirating 50.0 uL from A1 of Opentrons 24 Tube Rack with Eppendorf 1.5 mL Safe-Lock Snapcap on 5 at 150.0 uL/sec\n",
      "\tDispensing 50.0 uL into C1 of NEST 96 Well Plate 100 µL PCR Full Skirt on Thermocycler Module on 7 at 300.0 uL/sec\n",
      "\tDropping tip into A1 of Opentrons Fixed Trash on 12\n",
      "Transferring 50.0 from A1 of Opentrons 24 Tube Rack with Eppendorf 1.5 mL Safe-Lock Snapcap on 5 to D1 of NEST 96 Well Plate 100 µL PCR Full Skirt on Thermocycler Module on 7\n",
      "\tPicking up tip from D1 of Opentrons 96 Tip Rack 300 µL on 2\n",
      "\tAspirating 50.0 uL from A1 of Opentrons 24 Tube Rack with Eppendorf 1.5 mL Safe-Lock Snapcap on 5 at 150.0 uL/sec\n",
      "\tDispensing 50.0 uL into D1 of NEST 96 Well Plate 100 µL PCR Full Skirt on Thermocycler Module on 7 at 300.0 uL/sec\n",
      "\tDropping tip into A1 of Opentrons Fixed Trash on 12\n",
      "Transferring 50.0 from A1 of Opentrons 24 Tube Rack with Eppendorf 1.5 mL Safe-Lock Snapcap on 5 to E1 of NEST 96 Well Plate 100 µL PCR Full Skirt on Thermocycler Module on 7\n",
      "\tPicking up tip from E1 of Opentrons 96 Tip Rack 300 µL on 2\n",
      "\tAspirating 50.0 uL from A1 of Opentrons 24 Tube Rack with Eppendorf 1.5 mL Safe-Lock Snapcap on 5 at 150.0 uL/sec\n",
      "\tDispensing 50.0 uL into E1 of NEST 96 Well Plate 100 µL PCR Full Skirt on Thermocycler Module on 7 at 300.0 uL/sec\n",
      "\tDropping tip into A1 of Opentrons Fixed Trash on 12\n",
      "Transferring 50.0 from A1 of Opentrons 24 Tube Rack with Eppendorf 1.5 mL Safe-Lock Snapcap on 5 to F1 of NEST 96 Well Plate 100 µL PCR Full Skirt on Thermocycler Module on 7\n",
      "\tPicking up tip from F1 of Opentrons 96 Tip Rack 300 µL on 2\n",
      "\tAspirating 50.0 uL from A1 of Opentrons 24 Tube Rack with Eppendorf 1.5 mL Safe-Lock Snapcap on 5 at 150.0 uL/sec\n",
      "\tDispensing 50.0 uL into F1 of NEST 96 Well Plate 100 µL PCR Full Skirt on Thermocycler Module on 7 at 300.0 uL/sec\n",
      "\tDropping tip into A1 of Opentrons Fixed Trash on 12\n",
      "Transferring 50.0 from A1 of Opentrons 24 Tube Rack with Eppendorf 1.5 mL Safe-Lock Snapcap on 5 to G1 of NEST 96 Well Plate 100 µL PCR Full Skirt on Thermocycler Module on 7\n",
      "\tPicking up tip from G1 of Opentrons 96 Tip Rack 300 µL on 2\n",
      "\tAspirating 50.0 uL from A1 of Opentrons 24 Tube Rack with Eppendorf 1.5 mL Safe-Lock Snapcap on 5 at 150.0 uL/sec\n",
      "\tDispensing 50.0 uL into G1 of NEST 96 Well Plate 100 µL PCR Full Skirt on Thermocycler Module on 7 at 300.0 uL/sec\n",
      "\tDropping tip into A1 of Opentrons Fixed Trash on 12\n",
      "Transferring 50.0 from A1 of Opentrons 24 Tube Rack with Eppendorf 1.5 mL Safe-Lock Snapcap on 5 to H1 of NEST 96 Well Plate 100 µL PCR Full Skirt on Thermocycler Module on 7\n",
      "\tPicking up tip from H1 of Opentrons 96 Tip Rack 300 µL on 2\n",
      "\tAspirating 50.0 uL from A1 of Opentrons 24 Tube Rack with Eppendorf 1.5 mL Safe-Lock Snapcap on 5 at 150.0 uL/sec\n",
      "\tDispensing 50.0 uL into H1 of NEST 96 Well Plate 100 µL PCR Full Skirt on Thermocycler Module on 7 at 300.0 uL/sec\n",
      "\tDropping tip into A1 of Opentrons Fixed Trash on 12\n",
      "Pausing robot operation: Add seal\n",
      "Closing Thermocycler lid\n",
      "Setting Thermocycler lid temperature to 98.0 °C\n",
      "Setting Thermocycler well block temperature to 37.0 °C with a hold time of 15.0 minutes and 0 seconds\n",
      "Setting Thermocycler well block temperature to 80.0 °C with a hold time of 15.0 minutes and 0 seconds\n"
     ]
    },
    {
     "name": "stderr",
     "output_type": "stream",
     "text": [
      "C:\\Users\\lajamu\\.opentrons\\deck_calibration.json not found. Loading defaults\n",
      "C:\\Users\\lajamu\\.opentrons\\robot_settings.json not found. Loading defaults\n"
     ]
    },
    {
     "name": "stdout",
     "output_type": "stream",
     "text": [
      "Setting Thermocycler well block temperature to 10.0 °C\n",
      "Opening Thermocycler lid\n"
     ]
    }
   ],
   "source": [
    "!opentrons_simulate BlockPCR_ExoDigestion.py"
   ]
  }
 ],
 "metadata": {
  "kernelspec": {
   "display_name": "Python 3",
   "language": "python",
   "name": "python3"
  },
  "language_info": {
   "codemirror_mode": {
    "name": "ipython",
    "version": 3
   },
   "file_extension": ".py",
   "mimetype": "text/x-python",
   "name": "python",
   "nbconvert_exporter": "python",
   "pygments_lexer": "ipython3",
   "version": "3.7.1"
  }
 },
 "nbformat": 4,
 "nbformat_minor": 5
}
